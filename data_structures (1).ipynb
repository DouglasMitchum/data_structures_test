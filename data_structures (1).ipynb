{
  "nbformat": 4,
  "nbformat_minor": 0,
  "metadata": {
    "colab": {
      "provenance": [],
      "collapsed_sections": [
        "uHE1M6C6naEB",
        "5lSI74e6qIVq",
        "6PougCAIu2jT",
        "U6gVX2S-wKw6",
        "SK063R3X-xQl",
        "Js32MgfeCX6X",
        "Z1uH8pNhC_kt",
        "ioIXtei9IJdg",
        "v6jNttx5IVSn",
        "H8yU05A2PGxt",
        "ucOu4pUoSd8i",
        "4kNixoHZZ4q2"
      ]
    },
    "kernelspec": {
      "name": "python3",
      "display_name": "Python 3"
    },
    "language_info": {
      "name": "python"
    }
  },
  "cells": [
    {
      "cell_type": "markdown",
      "source": [
        "# Data Types"
      ],
      "metadata": {
        "id": "9ZPkyxjGnBjQ"
      }
    },
    {
      "cell_type": "markdown",
      "source": [
        "## Primitive Data Structures (Data Types)"
      ],
      "metadata": {
        "id": "uHE1M6C6naEB"
      }
    },
    {
      "cell_type": "markdown",
      "source": [
        "\n",
        "\n",
        "*   **Data type** defines the type of variable\n",
        "*   Stores a value\n",
        "*   Python has four variable types: integet, float, string and boolean\n",
        "*   Python automatically recognizes a variable's data type based on the assigned value.\n",
        "*   Convention is to use lower_case_with_underscores\n",
        "\n"
      ],
      "metadata": {
        "id": "CZocia-4njx1"
      }
    },
    {
      "cell_type": "markdown",
      "source": [
        "## Variables types"
      ],
      "metadata": {
        "id": "5lSI74e6qIVq"
      }
    },
    {
      "cell_type": "markdown",
      "source": [
        "\n",
        "\n",
        "*   Integer: numerica data. Integers numbers from negative infinity to infinity. **Integers** in **Python 3** are of unlimited size. For instance, there is no **long integer** in **Python 3**.\n",
        "*   Float: represets the set of real numbers, $\\mathbb{R}$.\n",
        "*   String: collection of alphanumeric and other type characters.\n",
        "*   Boolean: logical values, TRUE and FALSE.\n",
        "\n"
      ],
      "metadata": {
        "id": "fgqcoVqnqSSw"
      }
    },
    {
      "cell_type": "markdown",
      "source": [
        "### Examples"
      ],
      "metadata": {
        "id": "6PougCAIu2jT"
      }
    },
    {
      "cell_type": "code",
      "source": [
        "some_var = 5\n",
        "print(some_var )\n",
        "print(type(some_var ))"
      ],
      "metadata": {
        "id": "WP4VATRrvn1T"
      },
      "execution_count": null,
      "outputs": []
    },
    {
      "cell_type": "code",
      "source": [
        "some_var  = 12.5\n",
        "print(some_var )\n",
        "print(type(some_var ))"
      ],
      "metadata": {
        "id": "nVfipTjnvuwU"
      },
      "execution_count": null,
      "outputs": []
    },
    {
      "cell_type": "code",
      "source": [
        "some_var  = 'a'\n",
        "print(some_var )\n",
        "print(type(some_var ))"
      ],
      "metadata": {
        "id": "psyvU1fNv9Ax"
      },
      "execution_count": null,
      "outputs": []
    },
    {
      "cell_type": "code",
      "source": [
        "some_var  = True\n",
        "print(some_var )\n",
        "print(type(some_var ))"
      ],
      "metadata": {
        "id": "0OM-0o8OwHLp"
      },
      "execution_count": null,
      "outputs": []
    },
    {
      "cell_type": "code",
      "source": [
        "some_var  = bool(0)\n",
        "print(some_var )\n",
        "print(type(some_var ))"
      ],
      "metadata": {
        "id": "t3ZsX2anwEN6"
      },
      "execution_count": null,
      "outputs": []
    },
    {
      "cell_type": "markdown",
      "source": [
        "## Operators"
      ],
      "metadata": {
        "id": "U6gVX2S-wKw6"
      }
    },
    {
      "cell_type": "markdown",
      "source": [
        "Basic arithmetic (+, -, *, /) is what you would expect"
      ],
      "metadata": {
        "id": "mG086_LNwP1U"
      }
    },
    {
      "cell_type": "code",
      "source": [
        "1 + 1"
      ],
      "metadata": {
        "id": "Cp3Dc6xUwvzt"
      },
      "execution_count": null,
      "outputs": []
    },
    {
      "cell_type": "code",
      "source": [
        "8 - 1"
      ],
      "metadata": {
        "id": "Q8abpYm7xAkr"
      },
      "execution_count": null,
      "outputs": []
    },
    {
      "cell_type": "code",
      "source": [
        "10 * 2"
      ],
      "metadata": {
        "id": "ezOnGODTxRj2"
      },
      "execution_count": null,
      "outputs": []
    },
    {
      "cell_type": "code",
      "source": [
        "35 / 5 # The result of division is always a float"
      ],
      "metadata": {
        "id": "5LoqM9UqxST3"
      },
      "execution_count": null,
      "outputs": []
    },
    {
      "cell_type": "markdown",
      "source": [
        "Result of integer division truncated down both for positive and negative"
      ],
      "metadata": {
        "id": "GpF4HGzwxVWC"
      }
    },
    {
      "cell_type": "code",
      "source": [
        "5 // 3"
      ],
      "metadata": {
        "id": "_KISw40Gxzit"
      },
      "execution_count": null,
      "outputs": []
    },
    {
      "cell_type": "code",
      "source": [
        "-5 // 3"
      ],
      "metadata": {
        "id": "nphJ58CUyL96"
      },
      "execution_count": null,
      "outputs": []
    },
    {
      "cell_type": "code",
      "source": [
        "5.0 // 3.0 #works on floats too"
      ],
      "metadata": {
        "id": "t_ZFwq4Vx1RR"
      },
      "execution_count": null,
      "outputs": []
    },
    {
      "cell_type": "markdown",
      "source": [
        "Modulo operation"
      ],
      "metadata": {
        "id": "Hn-GaE1Xyh0c"
      }
    },
    {
      "cell_type": "code",
      "source": [
        "10 % 3"
      ],
      "metadata": {
        "id": "akp30Hc_ykSl"
      },
      "execution_count": null,
      "outputs": []
    },
    {
      "cell_type": "markdown",
      "source": [
        "Exponetiation $x^y$"
      ],
      "metadata": {
        "id": "NOSGKjZdynF0"
      }
    },
    {
      "cell_type": "code",
      "source": [
        "2**4"
      ],
      "metadata": {
        "id": "SykxjEaKypAe"
      },
      "execution_count": null,
      "outputs": []
    },
    {
      "cell_type": "markdown",
      "source": [
        "**not** operator"
      ],
      "metadata": {
        "id": "_yiHwIRiy3Ns"
      }
    },
    {
      "cell_type": "code",
      "source": [
        "not True"
      ],
      "metadata": {
        "id": "H3utrKHD0iNJ"
      },
      "execution_count": null,
      "outputs": []
    },
    {
      "cell_type": "code",
      "source": [
        "not False"
      ],
      "metadata": {
        "id": "F3p4Fb3w0oTD"
      },
      "execution_count": null,
      "outputs": []
    },
    {
      "cell_type": "markdown",
      "source": [
        "Comparison operators"
      ],
      "metadata": {
        "id": "gogCapqI3WX1"
      }
    },
    {
      "cell_type": "code",
      "source": [
        "1 == 1 # Equality"
      ],
      "metadata": {
        "id": "9Apa_v6c3hUw"
      },
      "execution_count": null,
      "outputs": []
    },
    {
      "cell_type": "code",
      "source": [
        "1 != 1 # Not equal"
      ],
      "metadata": {
        "id": "WHm8NK873nYO"
      },
      "execution_count": null,
      "outputs": []
    },
    {
      "cell_type": "code",
      "source": [
        "1 < 10"
      ],
      "metadata": {
        "id": "HApbcszm6GZ3"
      },
      "execution_count": null,
      "outputs": []
    },
    {
      "cell_type": "code",
      "source": [
        "1 > 10"
      ],
      "metadata": {
        "id": "1APvbmcK6KX5"
      },
      "execution_count": null,
      "outputs": []
    },
    {
      "cell_type": "code",
      "source": [
        "2 <= 2"
      ],
      "metadata": {
        "id": "mehUNjtv6NII"
      },
      "execution_count": null,
      "outputs": []
    },
    {
      "cell_type": "markdown",
      "source": [
        "Comparisons can be chained"
      ],
      "metadata": {
        "id": "Pw9izC0e6m-G"
      }
    },
    {
      "cell_type": "code",
      "source": [
        "2 < 3 < 2"
      ],
      "metadata": {
        "id": "PCrU0zRv6T4d"
      },
      "execution_count": null,
      "outputs": []
    },
    {
      "cell_type": "code",
      "source": [
        "1 < 2 < 3"
      ],
      "metadata": {
        "id": "h8Qtamsw6YVE"
      },
      "execution_count": null,
      "outputs": []
    },
    {
      "cell_type": "markdown",
      "source": [
        "**and**, **or** operators"
      ],
      "metadata": {
        "id": "W8uStqhy0vbu"
      }
    },
    {
      "cell_type": "code",
      "source": [
        "0 < 2 and 2 > 1"
      ],
      "metadata": {
        "id": "3FGrEFFi043S"
      },
      "execution_count": null,
      "outputs": []
    },
    {
      "cell_type": "code",
      "source": [
        "0 > 2 and 2 > 1"
      ],
      "metadata": {
        "id": "PJ7sm8Fd7yxO"
      },
      "execution_count": null,
      "outputs": []
    },
    {
      "cell_type": "code",
      "source": [
        "0 > 2 and 2 < 1"
      ],
      "metadata": {
        "id": "zw_UYaOy76V6"
      },
      "execution_count": null,
      "outputs": []
    },
    {
      "cell_type": "code",
      "source": [
        "0 < 2 or 2 > 1"
      ],
      "metadata": {
        "id": "fwoX10tp1Vln"
      },
      "execution_count": null,
      "outputs": []
    },
    {
      "cell_type": "code",
      "source": [
        "0 < 2 or -2 > 1"
      ],
      "metadata": {
        "id": "DNfp1JFx1EZl"
      },
      "execution_count": null,
      "outputs": []
    },
    {
      "cell_type": "code",
      "source": [
        "0 < -2 or -2 > 1"
      ],
      "metadata": {
        "id": "-rNd-NSf1KqA"
      },
      "execution_count": null,
      "outputs": []
    },
    {
      "cell_type": "markdown",
      "source": [
        "Identity and membership operators"
      ],
      "metadata": {
        "id": "s2kSwCtN7xPO"
      }
    },
    {
      "cell_type": "code",
      "source": [
        "a = ['a', 'b', 'c', 'd', 'e']\n",
        "b = ['d', 'e', 'f']\n",
        "c = a"
      ],
      "metadata": {
        "id": "BYlu4mjS8w3L"
      },
      "execution_count": null,
      "outputs": []
    },
    {
      "cell_type": "code",
      "source": [
        "a is b"
      ],
      "metadata": {
        "id": "7mt6kkYI8_w-"
      },
      "execution_count": null,
      "outputs": []
    },
    {
      "cell_type": "code",
      "source": [
        "a is c"
      ],
      "metadata": {
        "id": "SOsQKiLt9Rrq"
      },
      "execution_count": null,
      "outputs": []
    },
    {
      "cell_type": "code",
      "source": [
        "a is not b"
      ],
      "metadata": {
        "id": "IEtrqJ2K9Ble"
      },
      "execution_count": null,
      "outputs": []
    },
    {
      "cell_type": "code",
      "source": [
        "'b' in a"
      ],
      "metadata": {
        "id": "PytrGdoj9Q8M"
      },
      "execution_count": null,
      "outputs": []
    },
    {
      "cell_type": "code",
      "source": [
        "'f' in a"
      ],
      "metadata": {
        "id": "VLZMlTuv-tU0"
      },
      "execution_count": null,
      "outputs": []
    },
    {
      "cell_type": "code",
      "source": [
        "'b' not in a"
      ],
      "metadata": {
        "id": "UVwGuMZo-vGC"
      },
      "execution_count": null,
      "outputs": []
    },
    {
      "cell_type": "markdown",
      "source": [
        "## Strings"
      ],
      "metadata": {
        "id": "SK063R3X-xQl"
      }
    },
    {
      "cell_type": "code",
      "source": [
        "'This ' 'is ' 'a ' 'string' # strings can be added"
      ],
      "metadata": {
        "id": "5xE8frjV_yna"
      },
      "execution_count": null,
      "outputs": []
    },
    {
      "cell_type": "code",
      "source": [
        "'This is a string'[0] # a string can be treated like a list of characters"
      ],
      "metadata": {
        "id": "JJGGcffb_3Bk"
      },
      "execution_count": null,
      "outputs": []
    },
    {
      "cell_type": "code",
      "source": [
        "len('This is a string')"
      ],
      "metadata": {
        "id": "5vqpaQQ__6Om"
      },
      "execution_count": null,
      "outputs": []
    },
    {
      "cell_type": "markdown",
      "source": [
        ".format can be used to format strings, like this:"
      ],
      "metadata": {
        "id": "8GgUNQx6AQq1"
      }
    },
    {
      "cell_type": "code",
      "source": [
        "\"{} can be {}\".format('Strings', 'interpolated')"
      ],
      "metadata": {
        "id": "0eseoeDjAU-d"
      },
      "execution_count": null,
      "outputs": []
    },
    {
      "cell_type": "markdown",
      "source": [
        "You can repeat the formatting arguments to save some typing"
      ],
      "metadata": {
        "id": "eJ_5FVJVAzHe"
      }
    },
    {
      "cell_type": "code",
      "source": [
        "\"{0} be nimble, {0} be quick, {0} jump over the {1}\".format(\"Jack\", \"candle stick\")"
      ],
      "metadata": {
        "id": "rNNZVIF0Ah2z"
      },
      "execution_count": null,
      "outputs": []
    },
    {
      "cell_type": "code",
      "source": [
        "\"{name} wants to eat {food}\".format(name=\"Bob\", food=\"lasagna\")"
      ],
      "metadata": {
        "id": "MmXOBFDeCCRe"
      },
      "execution_count": null,
      "outputs": []
    },
    {
      "cell_type": "code",
      "source": [
        "a = ['miami', 'denver', 'san diego']\n",
        "b = ['florida', 'colorado', 'california']\n",
        "for i in range (3):\n",
        "  print(\"{0} is a city in {1}\".format(a[i], b[i]))"
      ],
      "metadata": {
        "id": "T49LaAFVCPaq"
      },
      "execution_count": null,
      "outputs": []
    },
    {
      "cell_type": "code",
      "source": [
        "a = ['miami', 'denver', 'san diego']\n",
        "b = ['florida', 'colorado', 'california']\n",
        "for i in range (3):\n",
        "  print(\"{city} is a city in {state}\".format(city = a[i], state = b[i]))"
      ],
      "metadata": {
        "id": "jHtWJwP6A9PO"
      },
      "execution_count": null,
      "outputs": []
    },
    {
      "cell_type": "markdown",
      "source": [
        "## User input"
      ],
      "metadata": {
        "id": "Z1uH8pNhC_kt"
      }
    },
    {
      "cell_type": "code",
      "source": [
        "input_string_var = input(\"Enter some data: \") # Returns the data as a string"
      ],
      "metadata": {
        "id": "efGK3mZHH_eq"
      },
      "execution_count": null,
      "outputs": []
    },
    {
      "cell_type": "code",
      "source": [
        "print(input_string_var)"
      ],
      "metadata": {
        "id": "uQ50l1P8ICjA"
      },
      "execution_count": null,
      "outputs": []
    },
    {
      "cell_type": "markdown",
      "source": [
        "## Collections"
      ],
      "metadata": {
        "id": "ioIXtei9IJdg"
      }
    },
    {
      "cell_type": "markdown",
      "source": [
        "### Lists"
      ],
      "metadata": {
        "id": "v6jNttx5IVSn"
      }
    },
    {
      "cell_type": "code",
      "source": [
        "li = [1, 2, 3] # empty list\n",
        "li"
      ],
      "metadata": {
        "id": "cmxRJSMHIYgf"
      },
      "execution_count": null,
      "outputs": []
    },
    {
      "cell_type": "code",
      "source": [
        "other_li = [6, 7, 8, 9]\n",
        "other_li"
      ],
      "metadata": {
        "id": "kylS5orCIdyb"
      },
      "execution_count": null,
      "outputs": []
    },
    {
      "cell_type": "code",
      "source": [
        "li.append(4)\n",
        "li            # li is now [1, 2, 3, 4]"
      ],
      "metadata": {
        "id": "uhguLwKnJG0P"
      },
      "execution_count": null,
      "outputs": []
    },
    {
      "cell_type": "code",
      "source": [
        "li.pop()   # Remove from the end with pop\n",
        "li"
      ],
      "metadata": {
        "id": "ZTfj-0_2JLZf"
      },
      "execution_count": null,
      "outputs": []
    },
    {
      "cell_type": "code",
      "source": [
        "# list index\n",
        "print(li[0])\n",
        "print(li[1])\n",
        "print(li[2])"
      ],
      "metadata": {
        "id": "9vqqU-4TKAgX"
      },
      "execution_count": null,
      "outputs": []
    },
    {
      "cell_type": "code",
      "source": [
        "li.pop(0)   # Remove an element from differents positions\n",
        "print(li)"
      ],
      "metadata": {
        "id": "lyiKxqdPJsNo"
      },
      "execution_count": null,
      "outputs": []
    },
    {
      "cell_type": "code",
      "source": [
        "li = [1, 2, 3, 4, 5]\n",
        "li[1:4] # You can look at ranges with slice syntax"
      ],
      "metadata": {
        "id": "vSeO6R9nKuoc"
      },
      "execution_count": null,
      "outputs": []
    },
    {
      "cell_type": "code",
      "source": [
        "li[2:]  # Omit the end"
      ],
      "metadata": {
        "id": "byz9klWNK8KK"
      },
      "execution_count": null,
      "outputs": []
    },
    {
      "cell_type": "code",
      "source": [
        "li[:2]  # Omit the beginning"
      ],
      "metadata": {
        "id": "0lfdjmmHLQj3"
      },
      "execution_count": null,
      "outputs": []
    },
    {
      "cell_type": "code",
      "source": [
        "li[::-1] # Return a reversed copy of the list"
      ],
      "metadata": {
        "id": "_ufbnXJnLb8P"
      },
      "execution_count": null,
      "outputs": []
    },
    {
      "cell_type": "code",
      "source": [
        "li.remove(2)  # Remove first occurrence of a value\n",
        "li"
      ],
      "metadata": {
        "id": "phQ7nLPRNf3o"
      },
      "execution_count": null,
      "outputs": []
    },
    {
      "cell_type": "code",
      "source": [
        "li.remove(2)  # Raises a ValueError as 2 is not in the list\n",
        "li"
      ],
      "metadata": {
        "id": "OwMRyxZ-NsmW"
      },
      "execution_count": null,
      "outputs": []
    },
    {
      "cell_type": "code",
      "source": [
        "li.insert(1, 2) # Insert an element at a specific index\n",
        "li"
      ],
      "metadata": {
        "id": "3UeAvMi5OBvD"
      },
      "execution_count": null,
      "outputs": []
    },
    {
      "cell_type": "code",
      "source": [
        "li.index(2) # Get the index of the first item found matching the argument"
      ],
      "metadata": {
        "id": "THfwjRRoOHR6"
      },
      "execution_count": null,
      "outputs": []
    },
    {
      "cell_type": "code",
      "source": [
        "li + other_li # You can add lists"
      ],
      "metadata": {
        "id": "GS6RRTkPOTD3"
      },
      "execution_count": null,
      "outputs": []
    },
    {
      "cell_type": "code",
      "source": [
        "li.extend(other_li)  # Concatenate lists with \"extend()\"\n",
        "li"
      ],
      "metadata": {
        "id": "tRJf65zjOXuz"
      },
      "execution_count": null,
      "outputs": []
    },
    {
      "cell_type": "code",
      "source": [
        "len(li) # Examine the length with \"len()\""
      ],
      "metadata": {
        "id": "1mvzvN37PCR9"
      },
      "execution_count": null,
      "outputs": []
    },
    {
      "cell_type": "markdown",
      "source": [
        "### Tuples\n",
        "\n",
        "Tuples are like lists but are inmutable"
      ],
      "metadata": {
        "id": "H8yU05A2PGxt"
      }
    },
    {
      "cell_type": "code",
      "source": [
        "tup = (1, 2, 3)\n",
        "tup"
      ],
      "metadata": {
        "id": "6kHjg09oPo6x"
      },
      "execution_count": null,
      "outputs": []
    },
    {
      "cell_type": "code",
      "source": [
        "tup[0]"
      ],
      "metadata": {
        "id": "cmRvKnEwPzYX"
      },
      "execution_count": null,
      "outputs": []
    },
    {
      "cell_type": "markdown",
      "source": [
        "You can do most of the list operations on tuples too"
      ],
      "metadata": {
        "id": "ITtNg36UP9nt"
      }
    },
    {
      "cell_type": "code",
      "source": [
        "len(tup)"
      ],
      "metadata": {
        "id": "A0JRAih_P5xq"
      },
      "execution_count": null,
      "outputs": []
    },
    {
      "cell_type": "code",
      "source": [
        "tup + (4, 5, 6)"
      ],
      "metadata": {
        "id": "iSselDYGQAcN"
      },
      "execution_count": null,
      "outputs": []
    },
    {
      "cell_type": "code",
      "source": [
        "tup[:2]"
      ],
      "metadata": {
        "id": "2TMUNR7uQB8k"
      },
      "execution_count": null,
      "outputs": []
    },
    {
      "cell_type": "code",
      "source": [
        "2 in tup"
      ],
      "metadata": {
        "id": "6YacS6yTQEUq"
      },
      "execution_count": null,
      "outputs": []
    },
    {
      "cell_type": "markdown",
      "source": [
        "You can unpack tuples (or lists) into variables"
      ],
      "metadata": {
        "id": "LPr2Mq1mQGyZ"
      }
    },
    {
      "cell_type": "code",
      "source": [
        "a, b, c = (1, 2, 3)\n",
        "print('a =', a, ';',\n",
        "      'b =', b, ';',\n",
        "      'c =', c)"
      ],
      "metadata": {
        "id": "XKTsPgV1QJJg"
      },
      "execution_count": null,
      "outputs": []
    },
    {
      "cell_type": "markdown",
      "source": [
        "### Dictionaries store mappings"
      ],
      "metadata": {
        "id": "ucOu4pUoSd8i"
      }
    },
    {
      "cell_type": "code",
      "source": [
        "empty_dict = {}"
      ],
      "metadata": {
        "id": "imR0q37ISg3P"
      },
      "execution_count": null,
      "outputs": []
    },
    {
      "cell_type": "code",
      "source": [
        "filled_dict = {'one': 1, 'two': 2, 'three': 3} # Here is a prefilled dictionary"
      ],
      "metadata": {
        "id": "UI94xuAySjny"
      },
      "execution_count": null,
      "outputs": []
    },
    {
      "cell_type": "markdown",
      "source": [
        "Note keys for dictionaries have to be **immutable types**. This is to ensure that the key can be converted to a constant hash value for quick look-ups. Immutable types include ints, floats, strings, tuples."
      ],
      "metadata": {
        "id": "LUqGsqgySlRs"
      }
    },
    {
      "cell_type": "code",
      "source": [
        "invalid_dict = {[1,2,3]: '123'}  # Raises a TypeError: unhashable type: 'list'"
      ],
      "metadata": {
        "id": "yZ2Giw90S1w1"
      },
      "execution_count": null,
      "outputs": []
    },
    {
      "cell_type": "code",
      "source": [
        "valid_dict = {(1,2,3):[1,2,3]}   # Values can be of any type, though"
      ],
      "metadata": {
        "id": "h8biazBnTFwu"
      },
      "execution_count": null,
      "outputs": []
    },
    {
      "cell_type": "markdown",
      "source": [
        "Look up values with [ ]"
      ],
      "metadata": {
        "id": "DUSfx8l4T6yB"
      }
    },
    {
      "cell_type": "code",
      "source": [
        "filled_dict['one']"
      ],
      "metadata": {
        "id": "S8QWky3CUBOX"
      },
      "execution_count": null,
      "outputs": []
    },
    {
      "cell_type": "markdown",
      "source": [
        "Get all keys as an iterable with \"keys( )\". We need to wrap the call in list( )to turn it into a list. We'll talk about those later. **Note:** dictionary key ordering is not guaranteed. Your results might not match this exactly"
      ],
      "metadata": {
        "id": "i4nxKK5xUHB1"
      }
    },
    {
      "cell_type": "code",
      "source": [
        "list(filled_dict.keys())"
      ],
      "metadata": {
        "id": "jPEhuBWkUMdv"
      },
      "execution_count": null,
      "outputs": []
    },
    {
      "cell_type": "markdown",
      "source": [
        "Get all values as an iterable with \"values( )\". Once again we need to wrap it in list( ) to get it out of the iterable. **Note:** same as above regarding key ordering."
      ],
      "metadata": {
        "id": "4gIwJXNKUjsW"
      }
    },
    {
      "cell_type": "code",
      "source": [
        "list(filled_dict.values())"
      ],
      "metadata": {
        "id": "542Xr89OUhpW"
      },
      "execution_count": null,
      "outputs": []
    },
    {
      "cell_type": "markdown",
      "source": [
        "Check for existence of keys in a dictionary with **'in'**"
      ],
      "metadata": {
        "id": "wXwprTyUU0gp"
      }
    },
    {
      "cell_type": "code",
      "source": [
        "\"one\" in filled_dict"
      ],
      "metadata": {
        "id": "JEqz9Z7wU4T4"
      },
      "execution_count": null,
      "outputs": []
    },
    {
      "cell_type": "code",
      "source": [
        "1 in filled_dict"
      ],
      "metadata": {
        "id": "y-fxGNljU7oB"
      },
      "execution_count": null,
      "outputs": []
    },
    {
      "cell_type": "code",
      "source": [
        "filled_dict.update({'four': 4}) # Adding to a dictionary\n",
        "filled_dict"
      ],
      "metadata": {
        "id": "AyvhFkhfVMqU"
      },
      "execution_count": null,
      "outputs": []
    },
    {
      "cell_type": "code",
      "source": [
        "filled_dict['five'] = 5  # Another way to add to dict\n",
        "filled_dict"
      ],
      "metadata": {
        "id": "6DxYyCBEVSfn"
      },
      "execution_count": null,
      "outputs": []
    },
    {
      "cell_type": "code",
      "source": [
        "del filled_dict[\"one\"]  # Removes the key \"one\" from filled dict\n",
        "filled_dict"
      ],
      "metadata": {
        "id": "dDZXi7fEWQSw"
      },
      "execution_count": null,
      "outputs": []
    }
  ]
}